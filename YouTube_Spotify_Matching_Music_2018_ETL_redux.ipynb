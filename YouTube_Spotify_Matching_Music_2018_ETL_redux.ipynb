{
 "cells": [
  {
   "cell_type": "markdown",
   "metadata": {},
   "source": [
    "# YouTube & Spotify Top Music Artists From 2018\n",
    "---\n",
    "\n",
    "### SCOPE:\n",
    "#### - Extracted, transformed, and loaded up YouTube's Top Trending Videos from December 2017 thru May 2018 for their videos categorized as music only, and created an \"Artist\" column to enable joining with Spotify's Top 100 Songs of 2018. Both dataframes were loaded into MySQL.\n",
    "\n",
    "\n",
    "### PURPOSE:\n",
    "#### - I choose this project because I'm a avid listener and a huge music and concert goer, and wanted to work with data that I was familiar with.\n",
    "\n",
    "### Data Sources:\n",
    "#### - https://www.kaggle.com/datasnaek/youtube-new (this is an updated link, whereas I used an older version of this file, which is attached in the resources)\n",
    "#### - https://www.kaggle.com/nadintamer/top-spotify-tracks-of-2018\n",
    " \n"
   ]
  },
  {
   "cell_type": "code",
   "execution_count": 1,
   "metadata": {},
   "outputs": [],
   "source": [
    "# Import Dependencies 1/2:\n",
    "import os\n",
    "import csv\n",
    "import json\n",
    "import simplejson\n",
    "import numpy as np\n",
    "import pandas as pd\n",
    "from datetime import datetime\n",
    "import sys\n",
    "import string"
   ]
  },
  {
   "cell_type": "markdown",
   "metadata": {},
   "source": [
    "## SQL Alchemy setup and built a search, create, and drop database function to set up loading phase after extraction and transformation of data"
   ]
  },
  {
   "cell_type": "code",
   "execution_count": 2,
   "metadata": {},
   "outputs": [],
   "source": [
    "# Import Dependencies 2/2:\n",
    "from sqlalchemy import create_engine, Column, Integer, String, join, Date\n",
    "from sqlalchemy.ext.declarative import declarative_base\n",
    "from sqlalchemy_utils import database_exists, create_database, drop_database, has_index\n",
    "import pymysql\n",
    "Base = declarative_base()"
   ]
  },
  {
   "cell_type": "code",
   "execution_count": 3,
   "metadata": {},
   "outputs": [],
   "source": [
    "#rds_connection_string = \"<inser user name>:<insert password>@127.0.0.1/customer_db\"\n",
    "rds_connection_string = \"root:gREATNESS23$@127.0.0.1/\" #youtube_spotify_2018_db\"\n",
    "\n",
    "# Can set up an input for the db_name later (optional)\n",
    "db_name = 'youtube_spotify_2018_db2'\n",
    "\n",
    "# Setup engine connection string\n",
    "engine = create_engine(f'mysql://{rds_connection_string}{db_name}')"
   ]
  },
  {
   "cell_type": "code",
   "execution_count": 4,
   "metadata": {},
   "outputs": [],
   "source": [
    "# \n",
    "\n",
    "#db_exist = database_exists(f'mysql://{rds_connection_string}youtube_spotify_2018_db2')\n",
    "\n",
    "\n",
    "db_url = f'mysql://{rds_connection_string}{db_name}'"
   ]
  },
  {
   "cell_type": "code",
   "execution_count": 5,
   "metadata": {},
   "outputs": [
    {
     "name": "stdout",
     "output_type": "stream",
     "text": [
      "\"youtube_spotify_2018_db2\" database already exists in MySQL. Do you want you drop the table? Enter exactly: \"y\" or \"n\".  y\n",
      "Database youtube_spotify_2018_db2 was dropped\n",
      "Do you want to create another database called: youtube_spotify_2018_db2?  y\n"
     ]
    },
    {
     "data": {
      "text/plain": [
       "'The database youtube_spotify_2018_db2 was created. Next You will need to create tables for this database.  '"
      ]
     },
     "execution_count": 5,
     "metadata": {},
     "output_type": "execute_result"
    }
   ],
   "source": [
    "# Created a function incorproating SQL Alchemy to search, create, and or drop a database:\n",
    "def search_create_drop_db(db_name):\n",
    "    db_exist = database_exists(f'mysql://{rds_connection_string}{db_name}')\n",
    "    if db_exist == True:\n",
    "        drop_table_y_or_n = input(f'\"{db_name}\" database already exists in MySQL. Do you want you drop the table? Enter exactly: \"y\" or \"n\".  ')\n",
    "        if drop_table_y_or_n == 'y':\n",
    "            drop_database(db_url)\n",
    "            print(f\"Database {db_name} was dropped\")\n",
    "            create_new_db = input(f\"Do you want to create another database called: {db_name}?  \")\n",
    "            if create_new_db == 'y':\n",
    "                create_database(db_url)\n",
    "                return(f\"The database {db_name} was created. Next You will need to create tables for this database.  \")\n",
    "            else:\n",
    "                return(\"No database was created. Goodbye!  \")\n",
    "        else:\n",
    "            return(\"The database exists. No action was taken. Goodbye!  \")\n",
    "    else:\n",
    "        create_database(db_url)\n",
    "        return(f\"The queried database did not exist, and was created as: {db_name} .  \")\n",
    "\n",
    "search_create_drop_db(db_name)"
   ]
  },
  {
   "cell_type": "code",
   "execution_count": 6,
   "metadata": {},
   "outputs": [],
   "source": [
    "# Create tables 'blueprints' using python classes and sql alchemy:\n",
    "\n",
    "class yt_categories(Base):\n",
    "    __tablename__ = 'yt_category_titles'\n",
    "    id = Column(Integer, primary_key=True)\n",
    "    category_title = Column(String(60))\n",
    "\n",
    "class yt_statistics_data(Base):\n",
    "    __tablename__ = 'yt_statistics'\n",
    "    id = Column(Integer, primary_key=True)\n",
    "    category_title = Column(String(60))\n",
    "    trending_date = Column(Date, nullable=False)\n",
    "    video_title = Column(String(200))\n",
    "    channel_title = Column(String(100))\n",
    "    category_id = Column(Integer)\n",
    "    views = Column(Integer)\n",
    "    likes = Column(Integer)\n",
    "    dislikes = Column(Integer)\n",
    "    view_count = Column(Integer)\n",
    "\n",
    "class spotify_music_data(Base):\n",
    "    __tablename__ = 'spotify_music'\n",
    "    id = Column(Integer, primary_key=True)\n",
    "    artist = Column(String(100))\n",
    "    song_name = Column(String(200))\n",
    "    spotify_unique_id = Column(String(100))\n"
   ]
  },
  {
   "cell_type": "markdown",
   "metadata": {},
   "source": [
    "## Extract and transform \"YouTube Top Trending Videos\" dataset for USA"
   ]
  },
  {
   "cell_type": "code",
   "execution_count": 7,
   "metadata": {},
   "outputs": [],
   "source": [
    "# YouTube data has two parts: 1) Categories information in JSON format\n",
    "                            # 2) Top Trending US YouTube Videos in a CSV file\n",
    "\n",
    "# Part 1) YouTube Categories are seperated in a json file\n",
    "yt_json_file = './resources/youtube_US_category_id.json'\n",
    "yt_rawjson_df = pd.read_json(yt_json_file)"
   ]
  },
  {
   "cell_type": "code",
   "execution_count": 8,
   "metadata": {},
   "outputs": [
    {
     "name": "stdout",
     "output_type": "stream",
     "text": [
      "<class 'pandas.core.frame.DataFrame'>\n",
      "RangeIndex: 32 entries, 0 to 31\n",
      "Data columns (total 2 columns):\n",
      "category_id       32 non-null int64\n",
      "category_title    32 non-null object\n",
      "dtypes: int64(1), object(1)\n",
      "memory usage: 592.0+ bytes\n"
     ]
    }
   ],
   "source": [
    "# Extract the category id and category titles, and set them into a list\n",
    "\n",
    "# for i in yt_rawjson_df['items']:\n",
    "#     #print(i['id'])\n",
    "#     print(i['id'] + ' | ' + i['snippet']['title'])\n",
    "    \n",
    "\n",
    "category_id = [int(i['id']) for i in yt_rawjson_df['items']]\n",
    "category_title = [str(i['snippet']['title']) for i in yt_rawjson_df['items']]\n",
    "\n",
    "# Create a dataframe of the category id and title for later use\n",
    "category_id_title_df = pd.DataFrame({'category_id': category_id, 'category_title': category_title})\n",
    "category_id_title_df.head()\n",
    "category_id_title_df.info()"
   ]
  },
  {
   "cell_type": "code",
   "execution_count": 9,
   "metadata": {
    "scrolled": true
   },
   "outputs": [
    {
     "data": {
      "text/html": [
       "<div>\n",
       "<style scoped>\n",
       "    .dataframe tbody tr th:only-of-type {\n",
       "        vertical-align: middle;\n",
       "    }\n",
       "\n",
       "    .dataframe tbody tr th {\n",
       "        vertical-align: top;\n",
       "    }\n",
       "\n",
       "    .dataframe thead th {\n",
       "        text-align: right;\n",
       "    }\n",
       "</style>\n",
       "<table border=\"1\" class=\"dataframe\">\n",
       "  <thead>\n",
       "    <tr style=\"text-align: right;\">\n",
       "      <th></th>\n",
       "      <th>category_id</th>\n",
       "      <th>category_title</th>\n",
       "    </tr>\n",
       "  </thead>\n",
       "  <tbody>\n",
       "    <tr>\n",
       "      <th>0</th>\n",
       "      <td>1</td>\n",
       "      <td>Film &amp; Animation</td>\n",
       "    </tr>\n",
       "    <tr>\n",
       "      <th>1</th>\n",
       "      <td>2</td>\n",
       "      <td>Autos &amp; Vehicles</td>\n",
       "    </tr>\n",
       "    <tr>\n",
       "      <th>2</th>\n",
       "      <td>10</td>\n",
       "      <td>Music</td>\n",
       "    </tr>\n",
       "    <tr>\n",
       "      <th>3</th>\n",
       "      <td>15</td>\n",
       "      <td>Pets &amp; Animals</td>\n",
       "    </tr>\n",
       "    <tr>\n",
       "      <th>4</th>\n",
       "      <td>17</td>\n",
       "      <td>Sports</td>\n",
       "    </tr>\n",
       "  </tbody>\n",
       "</table>\n",
       "</div>"
      ],
      "text/plain": [
       "   category_id    category_title\n",
       "0            1  Film & Animation\n",
       "1            2  Autos & Vehicles\n",
       "2           10             Music\n",
       "3           15    Pets & Animals\n",
       "4           17            Sports"
      ]
     },
     "execution_count": 9,
     "metadata": {},
     "output_type": "execute_result"
    }
   ],
   "source": [
    "# Found that music category is \"10\"\n",
    "category_id_title_df.head()"
   ]
  },
  {
   "cell_type": "code",
   "execution_count": 10,
   "metadata": {},
   "outputs": [],
   "source": [
    "# Load category_id_title_df to MySQL with Pandas\n",
    "category_id_title_df.to_sql('yt_categories', con=engine)"
   ]
  },
  {
   "cell_type": "code",
   "execution_count": 11,
   "metadata": {},
   "outputs": [
    {
     "data": {
      "text/plain": [
       "[(0, 1, 'Film & Animation'),\n",
       " (1, 2, 'Autos & Vehicles'),\n",
       " (2, 10, 'Music'),\n",
       " (3, 15, 'Pets & Animals'),\n",
       " (4, 17, 'Sports'),\n",
       " (5, 18, 'Short Movies'),\n",
       " (6, 19, 'Travel & Events'),\n",
       " (7, 20, 'Gaming'),\n",
       " (8, 21, 'Videoblogging'),\n",
       " (9, 22, 'People & Blogs'),\n",
       " (10, 23, 'Comedy'),\n",
       " (11, 24, 'Entertainment'),\n",
       " (12, 25, 'News & Politics'),\n",
       " (13, 26, 'Howto & Style'),\n",
       " (14, 27, 'Education'),\n",
       " (15, 28, 'Science & Technology'),\n",
       " (16, 29, 'Nonprofits & Activism'),\n",
       " (17, 30, 'Movies'),\n",
       " (18, 31, 'Anime/Animation'),\n",
       " (19, 32, 'Action/Adventure'),\n",
       " (20, 33, 'Classics'),\n",
       " (21, 34, 'Comedy'),\n",
       " (22, 35, 'Documentary'),\n",
       " (23, 36, 'Drama'),\n",
       " (24, 37, 'Family'),\n",
       " (25, 38, 'Foreign'),\n",
       " (26, 39, 'Horror'),\n",
       " (27, 40, 'Sci-Fi/Fantasy'),\n",
       " (28, 41, 'Thriller'),\n",
       " (29, 42, 'Shorts'),\n",
       " (30, 43, 'Shows'),\n",
       " (31, 44, 'Trailers')]"
      ]
     },
     "execution_count": 11,
     "metadata": {},
     "output_type": "execute_result"
    }
   ],
   "source": [
    "# Two ways in this notebook to pull the data directly from MySQL database\n",
    "# Method 1) Use SQL Alchemy Engine - Result: successfully reads from MySQL Database:\n",
    "engine.execute(\"SELECT * FROM yt_categories\").fetchall()"
   ]
  },
  {
   "cell_type": "code",
   "execution_count": 13,
   "metadata": {},
   "outputs": [
    {
     "data": {
      "text/html": [
       "<div>\n",
       "<style scoped>\n",
       "    .dataframe tbody tr th:only-of-type {\n",
       "        vertical-align: middle;\n",
       "    }\n",
       "\n",
       "    .dataframe tbody tr th {\n",
       "        vertical-align: top;\n",
       "    }\n",
       "\n",
       "    .dataframe thead th {\n",
       "        text-align: right;\n",
       "    }\n",
       "</style>\n",
       "<table border=\"1\" class=\"dataframe\">\n",
       "  <thead>\n",
       "    <tr style=\"text-align: right;\">\n",
       "      <th></th>\n",
       "      <th>index</th>\n",
       "      <th>category_id</th>\n",
       "      <th>category_title</th>\n",
       "    </tr>\n",
       "  </thead>\n",
       "  <tbody>\n",
       "    <tr>\n",
       "      <th>0</th>\n",
       "      <td>0</td>\n",
       "      <td>1</td>\n",
       "      <td>Film &amp; Animation</td>\n",
       "    </tr>\n",
       "    <tr>\n",
       "      <th>1</th>\n",
       "      <td>1</td>\n",
       "      <td>2</td>\n",
       "      <td>Autos &amp; Vehicles</td>\n",
       "    </tr>\n",
       "    <tr>\n",
       "      <th>2</th>\n",
       "      <td>2</td>\n",
       "      <td>10</td>\n",
       "      <td>Music</td>\n",
       "    </tr>\n",
       "    <tr>\n",
       "      <th>3</th>\n",
       "      <td>3</td>\n",
       "      <td>15</td>\n",
       "      <td>Pets &amp; Animals</td>\n",
       "    </tr>\n",
       "    <tr>\n",
       "      <th>4</th>\n",
       "      <td>4</td>\n",
       "      <td>17</td>\n",
       "      <td>Sports</td>\n",
       "    </tr>\n",
       "  </tbody>\n",
       "</table>\n",
       "</div>"
      ],
      "text/plain": [
       "   index  category_id    category_title\n",
       "0      0            1  Film & Animation\n",
       "1      1            2  Autos & Vehicles\n",
       "2      2           10             Music\n",
       "3      3           15    Pets & Animals\n",
       "4      4           17            Sports"
      ]
     },
     "execution_count": 13,
     "metadata": {},
     "output_type": "execute_result"
    }
   ],
   "source": [
    "# Method 2) Read from MySQL database using Pandas - Result: Success! - This method is a better setup for analysis.\n",
    "# The index column is automatically generated.\n",
    "pd.read_sql_query('select * from yt_categories', con=engine).head()"
   ]
  },
  {
   "cell_type": "code",
   "execution_count": null,
   "metadata": {},
   "outputs": [],
   "source": [
    "# Part 1) is the YouTube Top US Videos in a CSV\n",
    "csv_file_yt = \"./resources/youtube_USvideos.csv\"\n",
    "yt_rawdata_df = pd.read_csv(csv_file_yt)"
   ]
  },
  {
   "cell_type": "code",
   "execution_count": null,
   "metadata": {},
   "outputs": [],
   "source": [
    "# view rows, count and datatypes\n",
    "yt_rawdata_df.info()"
   ]
  },
  {
   "cell_type": "code",
   "execution_count": null,
   "metadata": {},
   "outputs": [],
   "source": [
    "# Rename Columns\n",
    "yt_cleandata_df = yt_rawdata_df.rename(columns={\"video_id\":\"Video ID\", \"trending_date\":\"Trending Date\",\n",
    "                                                \"title\":\"Title\", \"channel_title\":\"Channel Title\",\n",
    "                                                \"category_id\":\"category_id\", \"publish_time\":\"Publish Time\",\n",
    "                                                \"tags\":\"Tags\", \"views\":\"Views\",\n",
    "                                                \"likes\":\"Likes\", \"dislikes\":\"Dislikes\", \n",
    "                                                \"comment_count\":\"Comment Count\", \"thumbnail_link\":\"Thumbnail Link\",\n",
    "                                                \"comments_disabled\":\"Comments Disabled\", \"ratings_disabled\":\"Ratings Disabled\",\n",
    "                                                \"video_error_or_removed\":\"Video Error Or Removed\", \"description\":\"Description\"\n",
    "                                               })\n",
    "yt_cleandata_df.head()"
   ]
  },
  {
   "cell_type": "code",
   "execution_count": null,
   "metadata": {},
   "outputs": [],
   "source": [
    "# Drop Cells with Missing Information\n",
    "yt_cleandata_df = yt_cleandata_df.dropna(how=\"any\")"
   ]
  },
  {
   "cell_type": "code",
   "execution_count": null,
   "metadata": {},
   "outputs": [],
   "source": [
    "# Drop Dulplicates and Sort by Trending Date\n",
    "yt_cleandata_df.drop_duplicates(['Video ID', 'Trending Date', 'Title', 'Channel Title', 'category_id', 'Publish Time']).sort_values(by=['Trending Date'], ascending=False).head()"
   ]
  },
  {
   "cell_type": "code",
   "execution_count": null,
   "metadata": {},
   "outputs": [],
   "source": [
    "# Drop Unwanted Columns\n",
    "\n",
    "to_drop =['Publish Time', 'Tags', 'Thumbnail Link', 'Comments Disabled', 'Ratings Disabled', 'Video Error Or Removed', 'Description']\n",
    "\n",
    "yt_cleandata_df.drop(to_drop, inplace=True, axis=1)"
   ]
  },
  {
   "cell_type": "code",
   "execution_count": null,
   "metadata": {
    "scrolled": false
   },
   "outputs": [],
   "source": [
    "# Replace the \".\" in Trending Date to \"-\"\n",
    "\n",
    "yt_cleandata_df['Trending Date'] = [x.replace(\".\",\"-\") for x in yt_cleandata_df['Trending Date']]\n",
    "yt_cleandata_df.head()"
   ]
  },
  {
   "cell_type": "code",
   "execution_count": null,
   "metadata": {},
   "outputs": [],
   "source": [
    "# Print out All Channel Titles\n",
    "# for x in yt_cleandata_df['Channel Title'].unique():\n",
    "#      print(x)"
   ]
  },
  {
   "cell_type": "code",
   "execution_count": null,
   "metadata": {},
   "outputs": [],
   "source": [
    "# Inner joined the both YouTube Tables\n",
    "\n",
    "yt_merged_df = pd.merge(yt_cleandata_df, category_id_title_df, how='inner', on='category_id',\n",
    "         left_index=False, right_index=False, sort=True)\n",
    "yt_merged_df.info()"
   ]
  },
  {
   "cell_type": "code",
   "execution_count": null,
   "metadata": {},
   "outputs": [],
   "source": [
    "# View how many videos are in each category, particularly for music.\n",
    "yt_merged_df['category_title'].value_counts()"
   ]
  },
  {
   "cell_type": "code",
   "execution_count": null,
   "metadata": {},
   "outputs": [],
   "source": []
  },
  {
   "cell_type": "code",
   "execution_count": null,
   "metadata": {},
   "outputs": [],
   "source": []
  },
  {
   "cell_type": "markdown",
   "metadata": {},
   "source": [
    "## Extract and transform \"Spotify Top 2018 Songs\" dataset"
   ]
  },
  {
   "cell_type": "code",
   "execution_count": null,
   "metadata": {},
   "outputs": [],
   "source": [
    "# Spotify 2018 - Top 100 Songs - Raw CSV\n",
    "\n",
    "csv_file_spotify2018 = \"./resources/spotify_top2018.csv\"\n",
    "spotify2018_rawdata_df = pd.read_csv(csv_file_spotify2018)\n",
    "spotify2018_rawdata_df.head()"
   ]
  },
  {
   "cell_type": "code",
   "execution_count": null,
   "metadata": {},
   "outputs": [],
   "source": [
    "spotify2018_rawdata_df.info()"
   ]
  },
  {
   "cell_type": "code",
   "execution_count": null,
   "metadata": {},
   "outputs": [],
   "source": [
    "# Set up Spotify DataFrame\n",
    "spotify_2018_id = spotify2018_rawdata_df['id']\n",
    "spotify_2018_name = spotify2018_rawdata_df['name']\n",
    "spotify_2018_artists = spotify2018_rawdata_df['artists']"
   ]
  },
  {
   "cell_type": "code",
   "execution_count": null,
   "metadata": {},
   "outputs": [],
   "source": [
    "spotify2018_filtered_df = pd.DataFrame({\n",
    "            \"Artist\": spotify_2018_artists,\n",
    "            \"Song Name\": spotify_2018_name,\n",
    "            \"Spotify Unique ID\": spotify_2018_id\n",
    "             })\n",
    "spotify2018_filtered_df.head()"
   ]
  },
  {
   "cell_type": "code",
   "execution_count": null,
   "metadata": {},
   "outputs": [],
   "source": []
  },
  {
   "cell_type": "code",
   "execution_count": null,
   "metadata": {},
   "outputs": [],
   "source": []
  },
  {
   "cell_type": "code",
   "execution_count": null,
   "metadata": {},
   "outputs": [],
   "source": []
  },
  {
   "cell_type": "code",
   "execution_count": null,
   "metadata": {},
   "outputs": [],
   "source": []
  },
  {
   "cell_type": "code",
   "execution_count": null,
   "metadata": {},
   "outputs": [],
   "source": []
  },
  {
   "cell_type": "code",
   "execution_count": null,
   "metadata": {},
   "outputs": [],
   "source": []
  },
  {
   "cell_type": "code",
   "execution_count": null,
   "metadata": {},
   "outputs": [],
   "source": []
  },
  {
   "cell_type": "code",
   "execution_count": null,
   "metadata": {},
   "outputs": [],
   "source": []
  },
  {
   "cell_type": "code",
   "execution_count": null,
   "metadata": {},
   "outputs": [],
   "source": [
    "#rds_connection_string = \"<inser user name>:<insert password>@127.0.0.1/customer_db\"\n",
    "rds_connection_string = \"root:gREATNESS23$@127.0.0.1/\" #youtube_spotify_2018_db\"\n",
    "engine = create_engine(f'mysql://{rds_connection_string}')"
   ]
  },
  {
   "cell_type": "code",
   "execution_count": null,
   "metadata": {},
   "outputs": [],
   "source": [
    "# Can set up an input for the db_name later (optional)\n",
    "db_name = 'youtube_spotify_2018_db2'\n",
    "\n",
    "#db_exist = database_exists(f'mysql://{rds_connection_string}youtube_spotify_2018_db2')\n",
    "db_exist = database_exists(f'mysql://{rds_connection_string}{db_name}')\n",
    "\n",
    "db_url = f'mysql://{rds_connection_string}{db_name}'"
   ]
  },
  {
   "cell_type": "code",
   "execution_count": null,
   "metadata": {},
   "outputs": [],
   "source": [
    "# Created a function incorproating SQL Alchemy to search, create, and or drop a database:\n",
    "def search_create_drop_db(db_name):\n",
    "    if db_exist == True:\n",
    "        drop_table_y_or_n = input(f'\"{db_name}\" database already exists in MySQL. Do you want you drop the table? Enter exactly: \"y\" or \"n\".  ')\n",
    "        if drop_table_y_or_n == 'y':\n",
    "            drop_database(db_url)\n",
    "            print(f\"Database {db_name} was dropped\")\n",
    "            create_new_db = input(f\"Do you want to create another database called: {db_name}?  \")\n",
    "            if create_new_db == 'y':\n",
    "                create_database(db_url)\n",
    "                return(f\"The database {db_name} was created. Next You will need to create tables for this database.  \")\n",
    "            else:\n",
    "                return(\"No database was created. Goodbye!  \")\n",
    "        else:\n",
    "            return(\"The database exists. No action was taken. Goodbye!  \")\n",
    "    else:\n",
    "        create_database(db_url)\n",
    "        return(f\"The queried database did not exist, and was created as: {db_name} .  \")\n",
    "\n",
    "search_create_drop_db(db_name)"
   ]
  },
  {
   "cell_type": "code",
   "execution_count": null,
   "metadata": {},
   "outputs": [],
   "source": [
    "# Create tables using python classes and sql alchemy:\n",
    "\n",
    "class yt_categories(Base):\n",
    "    __tablename__ = 'yt_category_titles'\n",
    "    id = Column(Integer, primary_key=True)\n",
    "    category_title = Column(String(60))\n",
    "\n",
    "class yt_statistics_data(Base):\n",
    "    __tablename__ = 'yt_statistics'\n",
    "    id = Column(Integer, primary_key=True)\n",
    "    category_title = Column(String(60))\n",
    "    trending_date = Column(Date, nullable=False)\n",
    "    video_title = Column(String(200))\n",
    "    channel_title = Column(String(100))\n",
    "    category_id = Column(Integer)\n",
    "    views = Column(Integer)\n",
    "    likes = Column(Integer)\n",
    "    dislikes = Column(Integer)\n",
    "    view_count = Column(Integer)\n",
    "\n",
    "class spotify_music_data(Base):\n",
    "    __tablename__ = 'spotify_music'\n",
    "    id = Column(Integer, primary_key=True)\n",
    "    artist = Column(String(100))\n",
    "    song_name = Column(String(200))\n",
    "    spotify_unique_id = Column(String(100))\n"
   ]
  },
  {
   "cell_type": "markdown",
   "metadata": {},
   "source": []
  },
  {
   "cell_type": "code",
   "execution_count": null,
   "metadata": {},
   "outputs": [],
   "source": []
  },
  {
   "cell_type": "code",
   "execution_count": null,
   "metadata": {},
   "outputs": [],
   "source": []
  },
  {
   "cell_type": "code",
   "execution_count": null,
   "metadata": {},
   "outputs": [],
   "source": []
  },
  {
   "cell_type": "code",
   "execution_count": null,
   "metadata": {},
   "outputs": [],
   "source": []
  },
  {
   "cell_type": "code",
   "execution_count": null,
   "metadata": {},
   "outputs": [],
   "source": []
  },
  {
   "cell_type": "code",
   "execution_count": null,
   "metadata": {},
   "outputs": [],
   "source": []
  },
  {
   "cell_type": "code",
   "execution_count": null,
   "metadata": {},
   "outputs": [],
   "source": []
  },
  {
   "cell_type": "code",
   "execution_count": null,
   "metadata": {},
   "outputs": [],
   "source": []
  },
  {
   "cell_type": "code",
   "execution_count": null,
   "metadata": {},
   "outputs": [],
   "source": []
  },
  {
   "cell_type": "code",
   "execution_count": null,
   "metadata": {},
   "outputs": [],
   "source": []
  },
  {
   "cell_type": "code",
   "execution_count": null,
   "metadata": {},
   "outputs": [],
   "source": []
  }
 ],
 "metadata": {
  "kernelspec": {
   "display_name": "Python 3",
   "language": "python",
   "name": "python3"
  },
  "language_info": {
   "codemirror_mode": {
    "name": "ipython",
    "version": 3
   },
   "file_extension": ".py",
   "mimetype": "text/x-python",
   "name": "python",
   "nbconvert_exporter": "python",
   "pygments_lexer": "ipython3",
   "version": "3.7.1"
  }
 },
 "nbformat": 4,
 "nbformat_minor": 2
}
